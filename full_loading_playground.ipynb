{
 "cells": [
  {
   "cell_type": "code",
   "execution_count": 1,
   "id": "e24c9a55-711d-4702-9a7d-b9d7ddbf2965",
   "metadata": {
    "tags": []
   },
   "outputs": [],
   "source": [
    "from utils import *\n",
    "from dataset import *\n",
    "from autoencoder import *\n",
    "\n",
    "Ashley = False\n",
    "if Ashley:\n",
    "    device = \"cpu\"\n",
    "else:\n",
    "    device = \"cuda\""
   ]
  },
  {
   "cell_type": "code",
   "execution_count": 7,
   "id": "c8c2ff26-f3ee-4d1e-a88b-ffa40559bfb7",
   "metadata": {
    "tags": []
   },
   "outputs": [],
   "source": [
    "#### Load the big dataset\n",
    "# Load dataframes\n",
    "raw_property_df = pd.read_csv('../Chandra_data/properties-Full.csv')\n",
    "property_df = raw_property_df[['name','obsid','region_id']]\n",
    "property_ids = set([(r['region_id'],r['obsid']) for _ , r in property_df.iterrows()])\n",
    "\n",
    "events_df = pd.read_csv('../Chandra_data/eventfiles-Full.csv')\n",
    "raw_events_d = events_df.groupby(['region_id', 'obsid']).apply(lambda group: np.array(group[['time', 'energy']])).to_dict()"
   ]
  },
  {
   "cell_type": "code",
   "execution_count": 8,
   "id": "dac2aeca-b947-4f2f-8188-0a5006a7c04e",
   "metadata": {
    "tags": []
   },
   "outputs": [
    {
     "data": {
      "text/plain": [
       "Index(['name', 'ra', 'dec', 'err_ellipse_r0', 'err_ellipse_r1',\n",
       "       'err_ellipse_ang', 'significance', 'likelihood_class', 'conf_flag',\n",
       "       'sat_src_flag', 'streak_src_flag', 'flux_aper_b', 'flux_aper_lolim_b',\n",
       "       'flux_aper_hilim_b', 'flux_aper_w', 'flux_aper_lolim_w',\n",
       "       'flux_aper_hilim_w', 'flux_aper_avg_b', 'flux_aper_avg_lolim_b',\n",
       "       'flux_aper_avg_hilim_b', 'flux_aper_avg_w', 'flux_aper_avg_lolim_w',\n",
       "       'flux_aper_avg_hilim_w', 'obsid', 'obi', 'gti_obs', 'gti_end',\n",
       "       'region_id', 'theta', 'phi', 'flux_significance_b',\n",
       "       'flux_significance_w', 'likelihood_b', 'likelihood_w', 'conf_code',\n",
       "       'extent_code', 'sat_src_flag.1', 'streak_src_flag.1', 'var_code',\n",
       "       'major_axis_b', 'minor_axis_b', 'pos_angle_b', 'major_axis_w',\n",
       "       'minor_axis_w', 'pos_angle_w', 'cnts_aper_b', 'cnts_aperbkg_b',\n",
       "       'cnts_aper_w', 'src_cnts_aper_b', 'src_cnts_aper_w', 'src_rate_aper_b',\n",
       "       'src_rate_aper_w', 'flux_aper_b.1', 'flux_aper_lolim_b.1',\n",
       "       'flux_aper_hilim_b.1', 'flux_aper_w.1', 'flux_aper_lolim_w.1',\n",
       "       'flux_aper_hilim_w.1', 'hard_hm', 'hard_hm_lolim', 'hard_hm_hilim',\n",
       "       'hard_ms', 'hard_ms_lolim', 'hard_ms_hilim', 'hard_hs', 'hard_hs_lolim',\n",
       "       'hard_hs_hilim', 'var_prob_b', 'var_prob_h', 'var_prob_m', 'var_prob_s',\n",
       "       'var_index_b', 'var_index_w', 'livetime', 'detector'],\n",
       "      dtype='object')"
      ]
     },
     "execution_count": 8,
     "metadata": {},
     "output_type": "execute_result"
    }
   ],
   "source": [
    "raw_property_df.columns"
   ]
  },
  {
   "cell_type": "code",
   "execution_count": 9,
   "id": "5aab2f99-7bd2-4d3c-9547-d51b87af2847",
   "metadata": {},
   "outputs": [
    {
     "name": "stdout",
     "output_type": "stream",
     "text": [
      "10000\n",
      "20000\n",
      "30000\n",
      "40000\n",
      "50000\n",
      "60000\n"
     ]
    }
   ],
   "source": [
    "data_lst = []\n",
    "T_threshold_high = 200000\n",
    "l_threshold_high = 10000\n",
    "T_threshold = 28800\n",
    "l_threshold_low = 10\n",
    "c = 0\n",
    "for key in list(raw_events_d.keys()):\n",
    "    if key in property_ids:\n",
    "        event_list = np.array(raw_events_d[key])\n",
    "        event_list[:,0] = event_list[:,0] - min(event_list[:,0])\n",
    "        T = max(event_list[:,0]) - min(event_list[:,0])\n",
    "        length = len(event_list)\n",
    "        if T > T_threshold_high or length > l_threshold_high or T < T_threshold or length < l_threshold_low:\n",
    "            continue\n",
    "        else:\n",
    "            c += 1\n",
    "            if c % 10000 == 0:\n",
    "                print(c)\n",
    "            k = T // T_threshold\n",
    "            t = 0\n",
    "            tp = T_threshold\n",
    "            i = 1\n",
    "            while True:\n",
    "                temp_ind = np.where((event_list[:,0] >= t) & (event_list[:,0] < tp))[0]\n",
    "                temp_list = event_list[temp_ind,:]\n",
    "                temp_list[:,0] = temp_list[:,0] - min(temp_list[:,0])\n",
    "                if len(temp_list) > l_threshold_low:\n",
    "                    data_lst.append({'id':f'{key[1]}_{key[0]}_{i}', 'event_list':temp_list})\n",
    "                if temp_ind[-1] == length:\n",
    "                    break\n",
    "                i += 1\n",
    "                t = event_list[temp_ind[-1]+1,0]\n",
    "                tp = t + T_threshold\n",
    "                if tp > T:\n",
    "                    break"
   ]
  },
  {
   "cell_type": "code",
   "execution_count": 10,
   "id": "b0a3e185-0e58-45cd-a9f8-b35c28bcc4a1",
   "metadata": {
    "tags": []
   },
   "outputs": [],
   "source": [
    "import pickle\n",
    "\n",
    "# Specify the file name\n",
    "file_name = '../Chandra_data/large_eventfiles_lifetime28800.pkl'\n",
    "\n",
    "# Load and deserialize the list from the file\n",
    "with open(file_name, 'wb') as file:  # Note the 'wb' mode for writing bytes\n",
    "    pickle.dump(data_lst, file)\n",
    "    \n",
    "# with open(f'../Chandra_data/large_eventfiles_lifetime28800.pkl', 'rb') as file: \n",
    "#     data_lst = pickle.load(file)"
   ]
  },
  {
   "cell_type": "code",
   "execution_count": 11,
   "id": "ce29da2a-1d2f-4719-b95e-091fe8869b4f",
   "metadata": {
    "tags": []
   },
   "outputs": [
    {
     "name": "stdout",
     "output_type": "stream",
     "text": [
      "109656\n",
      "[  11.   13.   41.  297. 7944.]\n"
     ]
    },
    {
     "data": {
      "image/png": "[encoded data removed]",
      "text/plain": [
       "<Figure size 640x480 with 2 Axes>"
      ]
     },
     "metadata": {},
     "output_type": "display_data"
    }
   ],
   "source": [
    "lengths = [len(data_lst[i]['event_list']) for i in range(len(data_lst))]\n",
    "Ts = [max(data_lst[i]['event_list'][:,0]) for i in range(len(data_lst))]\n",
    "# Visualization\n",
    "fig, ax = plt.subplots(1,2)\n",
    "ax[0].hist(lengths,bins=20,density=True);\n",
    "ax[0].set_title('Event list lengths')\n",
    "ax[0].set_xscale('log')\n",
    "# ax[0].set_xlim([0,2000])\n",
    "\n",
    "ax[1].hist(Ts,bins=20);\n",
    "ax[1].set_title('Event list time range')\n",
    "# ax[1].set_xlim([0,200000])\n",
    "plt.tight_layout()\n",
    "print(len(Ts))\n",
    "print(np.quantile(lengths,[0,0.05,0.5,0.95,1]))"
   ]
  },
  {
   "cell_type": "code",
   "execution_count": 9,
   "id": "d20f769b-fc81-4373-b371-7c9a5580e015",
   "metadata": {
    "tags": []
   },
   "outputs": [],
   "source": [
    "# # Look for some interesting eventfiles\n",
    "# flare_ids = set(['1042_24','10822_185','12884_10','13454_56','13610_112','14368_489','14368_503','15113_59','15211_38','2025_39','20635_58','2833_53','3389_274','4062_31','4395_992','5849_62','803_90','9456_274','9548_14','957_208','9875_166'])\n",
    "# dip_ids = set(['10783_10','10871_10','11059_10','11272_13','13812_218','13812_586','13813_218','13814_567','13814_586','4733_229','4736_81','4737_74','5300_95','5322_229','6152_79','6152_81','6170_74','9070_10','942_101','9550_17'])\n",
    "\n",
    "# plt.figure(figsize=(12,9))\n",
    "# c = 0\n",
    "# for i in range(1,len(data_lst)):\n",
    "#     index = start_index + i\n",
    "#     times = np.asarray(data_lst[index]['event_list'][:,0]) / 500\n",
    "#     print(index)\n",
    "#     c += 1\n",
    "#     T = max(times)\n",
    "#     plt.subplot(4,4,c)\n",
    "#     plt.hist(times, bins = torch.arange(int(np.ceil(T))))\n",
    "#     plt.title(index)\n",
    "#     if c == 16:\n",
    "#         break\n",
    "# plt.suptitle('asdfgsdffd',size=20)\n",
    "# plt.tight_layout()\n",
    "\n",
    "# plotting_inds = [2088, 17743, 36200, 56507, 92786, # flares\n",
    "#                  7751, 44535, 51575, 78283, 95302, # dips\n",
    "#                 71, 159, 304, 381                  # other large eventfiles\n",
    "#                 4, 11]                             # other small eventfiles"
   ]
  },
  {
   "cell_type": "markdown",
   "id": "51c5d3cc-64e5-492c-bd6f-3e378b89c9e2",
   "metadata": {},
   "source": [
    "# Load small dataset\n"
   ]
  },
  {
   "cell_type": "code",
   "execution_count": 11,
   "id": "399c0c8c-1a74-487f-965e-7fd291205832",
   "metadata": {
    "tags": []
   },
   "outputs": [],
   "source": [
    "# # Convert to data dictionary\n",
    "# true_flares_df_raw = pd.read_csv('../Chandra_data/trueflares.csv')\n",
    "# false_flares_df_raw = pd.read_csv('../Chandra_data/falseflares.csv')\n",
    "# true_flares_df = true_flares_df_raw[['time','energy','obsreg_id']]\n",
    "# false_flares_df = false_flares_df_raw[['time','energy','obsreg_id']]\n",
    "# starting_times = pd.read_csv('../Chandra_data/starting_time.csv')\n",
    "\n",
    "# d = true_flares_df.groupby('obsreg_id').apply(lambda group: np.array(group[['time', 'energy']])).to_dict()\n",
    "# d.update(false_flares_df.groupby('obsreg_id').apply(lambda group: np.array(group[['time', 'energy']])).to_dict())\n",
    "\n",
    "# # Convert to data list and drop outliers\n",
    "\n",
    "\n",
    "# data_lst = []\n",
    "# T_threshold_low = 43200\n",
    "# num_flares = 436\n",
    "# i_flare = 0\n",
    "# for key in list(d.keys()):\n",
    "#     event_list = d[key]\n",
    "#     event_list[:,0] = event_list[:,0] - min(event_list[:,0])\n",
    "#     T = max(event_list[:,0]) - min(event_list[:,0])\n",
    "#     if T < T_threshold_low:\n",
    "#         continue\n",
    "#     else:\n",
    "#         if i_flare < num_flares:\n",
    "#             temp_t = starting_times['t'][i_flare] * 1000\n",
    "#             if temp_t > T - T_threshold_low:\n",
    "#                 temp_t = T - T_threshold_low\n",
    "#             i_flare += 1\n",
    "#         else:\n",
    "#             temp_t = 0\n",
    "#         event_list = event_list[(event_list[:,0] >= temp_t) & (event_list[:,0] <= temp_t + T_threshold_low),:]\n",
    "#         event_list[:,0] = event_list[:,0] - temp_t\n",
    "#         data_lst.append({'event_list':event_list})\n"
   ]
  },
  {
   "cell_type": "code",
   "execution_count": 49,
   "id": "f0138546-48fa-4cf5-a0d1-87125975109f",
   "metadata": {
    "tags": []
   },
   "outputs": [],
   "source": [
    "# # Specify the file name\n",
    "# file_name = '../Chandra_data/small_eventfiles_lifetime43200.pkl'\n",
    "\n",
    "# # Load and deserialize the list from the file\n",
    "# with open(file_name, 'wb') as file:  # Note the 'wb' mode for writing bytes\n",
    "#     pickle.dump(data_lst, file)\n",
    "\n",
    "with open(f'..//Chandra_data/small_eventfiles_lifetime43200.pkl', 'rb') as file: \n",
    "    data_lst = pickle.load(file)"
   ]
  },
  {
   "cell_type": "code",
   "execution_count": 53,
   "id": "982df0d6-5d87-4618-a93d-0b5683a115b6",
   "metadata": {
    "tags": []
   },
   "outputs": [
    {
     "name": "stdout",
     "output_type": "stream",
     "text": [
      "729\n",
      "[2.0000e+00 4.0400e+01 3.1900e+02 1.9212e+03 9.7300e+03]\n"
     ]
    },
    {
     "data": {
      "image/png": "[encoded data removed]",
      "text/plain": [
       "<Figure size 640x480 with 2 Axes>"
      ]
     },
     "metadata": {},
     "output_type": "display_data"
    }
   ],
   "source": [
    "lengths = [len(data_lst[i]['event_list']) for i in range(len(data_lst))]\n",
    "Ts = [max(data_lst[i]['event_list'][:,0]) for i in range(len(data_lst))]\n",
    "# Visualization\n",
    "fig, ax = plt.subplots(1,2)\n",
    "ax[0].hist(lengths,bins=20,density=True);\n",
    "ax[0].set_title('Event list lengths')\n",
    "ax[0].set_xscale('log')\n",
    "# ax[0].set_xlim([0,2000])\n",
    "\n",
    "ax[1].hist(Ts,bins=20);\n",
    "ax[1].set_title('Event list time range')\n",
    "# ax[1].set_xlim([0,200000])\n",
    "plt.tight_layout()\n",
    "print(len(Ts))\n",
    "print(np.quantile(lengths,[0,0.05,0.5,0.95,1]))"
   ]
  },
  {
   "cell_type": "code",
   "execution_count": 17,
   "id": "fe6687da-fef9-4c66-98a8-c512db0cbf07",
   "metadata": {
    "tags": []
   },
   "outputs": [],
   "source": [
    "dataset = RealEventsDataset(data_lst,t_scale=5000)"
   ]
  },
  {
   "cell_type": "code",
   "execution_count": 27,
   "id": "f0bab8dd-d624-4f05-a03a-9875bf209d1d",
   "metadata": {
    "tags": []
   },
   "outputs": [
    {
     "data": {
      "text/plain": [
       "tensor(8.6309)"
      ]
     },
     "execution_count": 27,
     "metadata": {},
     "output_type": "execute_result"
    }
   ],
   "source": [
    "dataset[0]['event_list'][:,0].max()"
   ]
  },
  {
   "cell_type": "code",
   "execution_count": null,
   "id": "b28139b7-069d-4fbe-a26e-22b5ea019a7b",
   "metadata": {},
   "outputs": [],
   "source": []
  }
 ],
 "metadata": {
  "kernelspec": {
   "display_name": "Python 3 (ipykernel)",
   "language": "python",
   "name": "python3"
  },
  "language_info": {
   "codemirror_mode": {
    "name": "ipython",
    "version": 3
   },
   "file_extension": ".py",
   "mimetype": "text/x-python",
   "name": "python",
   "nbconvert_exporter": "python",
   "pygments_lexer": "ipython3",
   "version": "3.10.11"
  }
 },
 "nbformat": 4,
 "nbformat_minor": 5
}
