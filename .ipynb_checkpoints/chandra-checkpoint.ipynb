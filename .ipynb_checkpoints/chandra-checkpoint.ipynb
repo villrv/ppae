{
 "cells": [
  {
   "cell_type": "code",
   "execution_count": 1,
   "id": "e24c9a55-711d-4702-9a7d-b9d7ddbf2965",
   "metadata": {
    "tags": []
   },
   "outputs": [],
   "source": [
    "from utils import *\n",
    "from dataset import *\n",
    "from autoencoder import *\n",
    "\n",
    "Ashley = False\n",
    "if Ashley:\n",
    "    device = \"cpu\"\n",
    "else:\n",
    "    device = \"cuda\""
   ]
  },
  {
   "cell_type": "code",
   "execution_count": 2,
   "id": "c8c2ff26-f3ee-4d1e-a88b-ffa40559bfb7",
   "metadata": {
    "tags": []
   },
   "outputs": [],
   "source": [
    "#### Load true and false flares data\n",
    "# Load dataframes\n",
    "true_flares_df = pd.read_csv('../Chandra_data/trueflares.csv')\n",
    "false_flares_df = pd.read_csv('../Chandra_data/falseflares.csv')\n",
    "true_flares_df = true_flares_df[['time','energy','obsreg_id']]\n",
    "false_flares_df = false_flares_df[['time','energy','obsreg_id']]\n",
    "\n",
    "# Convert to data dictionary\n",
    "d = true_flares_df.groupby('obsreg_id').apply(lambda group: np.array(group[['time', 'energy']])).to_dict()\n",
    "d.update(false_flares_df.groupby('obsreg_id').apply(lambda group: np.array(group[['time', 'energy']])).to_dict())"
   ]
  },
  {
   "cell_type": "code",
   "execution_count": 3,
   "id": "4eeea1ae-075d-4b83-aaad-9476ad0a350c",
   "metadata": {
    "tags": []
   },
   "outputs": [],
   "source": [
    "# Prepare for data, drop the outliers\n",
    "data_lst = []\n",
    "lengths = []\n",
    "Ts = []\n",
    "length_threshold = 5000\n",
    "T_threshold = 250000\n",
    "for key in list(d.keys()):\n",
    "    length = len(d[key])\n",
    "    T = max(d[key][:,0]) - min(d[key][:,0])\n",
    "    if length > length_threshold or T > T_threshold:\n",
    "        continue\n",
    "    else:\n",
    "        lengths.append(length)\n",
    "        Ts.append(T)\n",
    "        data_lst.append({'event_list':d[key]})\n",
    "\n",
    "B = 1\n",
    "data = RealEventsDataset(data_lst[0:1],t_scale=5000)\n",
    "loader = DataLoader(data, batch_size=B, shuffle=True, num_workers=4, collate_fn=padding_collate_fn)\n",
    "lengths = np.array(lengths)\n",
    "Ts = np.array(Ts)"
   ]
  },
  {
   "cell_type": "code",
   "execution_count": 17,
   "id": "60807ed7-01a3-44c7-8061-0f3f8ce53d38",
   "metadata": {
    "tags": []
   },
   "outputs": [],
   "source": [
    "# # Visualization\n",
    "# fig, ax = plt.subplots(1,2)\n",
    "# ax[0].hist(lengths,bins=20);\n",
    "# ax[0].set_title('Event list lengths')\n",
    "\n",
    "# ax[1].hist(Ts,bins=20);\n",
    "# ax[1].set_title('Event list time range')\n",
    "# plt.tight_layout()"
   ]
  },
  {
   "cell_type": "code",
   "execution_count": 4,
   "id": "19fdc862-b252-4ef6-8dc0-3ae1e33f9d21",
   "metadata": {
    "tags": []
   },
   "outputs": [
    {
     "name": "stderr",
     "output_type": "stream",
     "text": [
      "GPU available: True (cuda), used: True\n",
      "TPU available: False, using: 0 TPU cores\n",
      "IPU available: False, using: 0 IPUs\n",
      "HPU available: False, using: 0 HPUs\n",
      "LOCAL_RANK: 0 - CUDA_VISIBLE_DEVICES: [0]\n",
      "\n",
      "  | Name    | Type               | Params\n",
      "-----------------------------------------------\n",
      "0 | code    | PositionalEncoding | 0     \n",
      "1 | encoder | TransformerEncoder | 28.5 K\n",
      "2 | decoder | ResnetFC           | 437 K \n",
      "-----------------------------------------------\n",
      "466 K     Trainable params\n",
      "0         Non-trainable params\n",
      "466 K     Total params\n",
      "1.864     Total estimated model params size (MB)\n"
     ]
    },
    {
     "data": {
      "application/vnd.jupyter.widget-view+json": {
       "model_id": "bc4468a3c26f4e14b43ef70171f1a9fc",
       "version_major": 2,
       "version_minor": 0
      },
      "text/plain": [
       "Training: 0it [00:00, ?it/s]"
      ]
     },
     "metadata": {},
     "output_type": "display_data"
    },
    {
     "name": "stderr",
     "output_type": "stream",
     "text": [
      "/nobackup/users/yankeson/miniconda3/envs/DL/lib/python3.10/site-packages/pytorch_lightning/trainer/call.py:52: UserWarning: Detected KeyboardInterrupt, attempting graceful shutdown...\n",
      "  rank_zero_warn(\"Detected KeyboardInterrupt, attempting graceful shutdown...\")\n"
     ]
    }
   ],
   "source": [
    "# Create NN model\n",
    "num_freqs = 12\n",
    "num_latent = 128\n",
    "E_bins = 13\n",
    "encoding = PositionalEncoding(num_freqs=num_freqs)\n",
    "# encoding = DiffEncoding(include_input=True)\n",
    "model = AutoencoderTransformer(num_latent, encoding, hidden_size=256, E_bins=E_bins, lam_TV=0, lam_latent=0)\n",
    "trainer = pl.Trainer(max_epochs=100, \n",
    "                     accelerator=device, \n",
    "                     devices=1, \n",
    "                     plugins=[DisabledSLURMEnvironment(auto_requeue=False)], \n",
    "                     log_every_n_steps=2)\n",
    "history = trainer.fit(model, loader)"
   ]
  },
  {
   "cell_type": "code",
   "execution_count": 33,
   "id": "4b53ad8f-d889-441a-87ba-78e55580346e",
   "metadata": {
    "tags": []
   },
   "outputs": [],
   "source": [
    "# Test data, currently just the training data\n",
    "test_loader = DataLoader(data, batch_size=B, collate_fn=padding_collate_fn)\n",
    "test_batch = next(iter(test_loader))\n",
    "model.eval();\n",
    "model.to(device);\n",
    "with torch.no_grad():\n",
    "    model.encode(model.code(test_batch['event_list'].to(device)))\n",
    "    z = model.latent.cpu().numpy()"
   ]
  },
  {
   "cell_type": "code",
   "execution_count": 34,
   "id": "045ebb48-a59b-415e-b239-7234eb4a2b94",
   "metadata": {
    "tags": []
   },
   "outputs": [],
   "source": [
    "# Visualize the rate function that the NN has learned.\n",
    "with torch.no_grad():\n",
    "    coded = model.code(test_batch['event_list'].to(device))\n",
    "    rates = model.decode(coded[:,:,:-E_bins])\n",
    "    coded = coded.cpu()\n",
    "    rates = rates.cpu()"
   ]
  },
  {
   "cell_type": "code",
   "execution_count": 60,
   "id": "95434445-62f2-4d7b-985b-75eef09e3053",
   "metadata": {
    "tags": []
   },
   "outputs": [
    {
     "data": {
      "image/png": "[encoded data removed]",
      "text/plain": [
       "<Figure size 800x600 with 1 Axes>"
      ]
     },
     "metadata": {},
     "output_type": "display_data"
    }
   ],
   "source": [
    "# Plot total rates\n",
    "# index = 3\n",
    "# masks = test_batch['mask']\n",
    "# times = coded[index,masks[index],0]\n",
    "# plt.figure(figsize=(8,6))\n",
    "# plt.hist(times, bins = torch.arange(torch.ceil(torch.max(times))))\n",
    "# plt.plot(times, torch.sum(torch.exp(rates[index,masks[index],:]),dim=-1))\n",
    "# plt.show()\n",
    "\n",
    "# Plot rates for a specific energy bin\n",
    "plt.figure(figsize=(12,9))\n",
    "start_index = 0\n",
    "for i in range(9):\n",
    "    index = start_index + i\n",
    "    E_index = 0\n",
    "    masks = test_batch['mask']\n",
    "    valid_times = coded[index,masks[index]]\n",
    "    E_mask = valid_times[:,E_index+2*num_freqs+1]==1\n",
    "    times = valid_times[E_mask,0]\n",
    "    \n",
    "    plt.subplot(3,3,i+1)\n",
    "    plt.hist(times, bins = torch.arange(torch.ceil(torch.max(times))))\n",
    "    valid_rates = rates[index,masks[index],E_index]\n",
    "    plt.plot(times, torch.exp(valid_rates[E_mask]))\n",
    "plt.show()"
   ]
  },
  {
   "cell_type": "code",
   "execution_count": 30,
   "id": "60cfa2bb-510d-4865-9067-e577df24f540",
   "metadata": {
    "tags": []
   },
   "outputs": [],
   "source": [
    "# import seaborn as sns\n",
    "# sns.kdeplot(times, bw_adjust=0.1)"
   ]
  },
  {
   "cell_type": "code",
   "execution_count": 44,
   "id": "ad27824e-5fb0-4314-8286-39617a4e39c3",
   "metadata": {
    "tags": []
   },
   "outputs": [
    {
     "data": {
      "text/plain": [
       "array([0.05153966, 0.05175325, 0.05179594, ..., 0.04146403, 0.04138726,\n",
       "       0.04123366])"
      ]
     },
     "execution_count": 44,
     "metadata": {},
     "output_type": "execute_result"
    }
   ],
   "source": [
    "density(times)"
   ]
  },
  {
   "cell_type": "code",
   "execution_count": null,
   "id": "5c1a2892-26e8-4370-a908-f9683db44d8d",
   "metadata": {},
   "outputs": [],
   "source": []
  }
 ],
 "metadata": {
  "kernelspec": {
   "display_name": "Python 3 (ipykernel)",
   "language": "python",
   "name": "python3"
  },
  "language_info": {
   "codemirror_mode": {
    "name": "ipython",
    "version": 3
   },
   "file_extension": ".py",
   "mimetype": "text/x-python",
   "name": "python",
   "nbconvert_exporter": "python",
   "pygments_lexer": "ipython3",
   "version": "3.10.11"
  }
 },
 "nbformat": 4,
 "nbformat_minor": 5
}
